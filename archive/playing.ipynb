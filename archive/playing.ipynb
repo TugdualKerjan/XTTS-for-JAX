{
 "cells": [
  {
   "cell_type": "code",
   "execution_count": 1,
   "metadata": {},
   "outputs": [],
   "source": [
    "%load_ext autoreload\n",
    "%autoreload 2"
   ]
  },
  {
   "cell_type": "code",
   "execution_count": 6,
   "metadata": {},
   "outputs": [],
   "source": [
    "tokenizer = Tokenizer(\"checkpoints\")\n",
    "dataset = load_dataset(\"blabble-io/libritts_r\", \"clean\", streaming=True)\n",
    "\n",
    "\n",
    "def encode(sample):\n",
    "    # print(sample)\n",
    "    text, audio = tokenizer.encode(\n",
    "        sample[\"text_normalized\"],\n",
    "        sample[\"audio\"][\"array\"],\n",
    "        sample[\"audio\"][\"sampling_rate\"],\n",
    "    )\n",
    "    print(text)\n",
    "\n",
    "    return {\"text\": text, \"audio\": audio}\n",
    "\n",
    "\n",
    "def remove_too_long(sample):\n",
    "    return len(sample[\"text\"][0]) + len(sample[\"audio\"][0]) <= 200\n",
    "\n",
    "\n",
    "def pad(sample):\n",
    "    return {\n",
    "        \"audio\": tokenizer.pad(\n",
    "            sample[\"audio\"], len(sample[\"text\"][0]) + len(sample[\"audio\"][0])\n",
    "        )\n",
    "    }\n",
    "\n",
    "\n",
    "dataset = (\n",
    "    dataset.map(\n",
    "        encode,\n",
    "        remove_columns=[\n",
    "            \"text_original\",\n",
    "            \"speaker_id\",\n",
    "            \"chapter_id\",\n",
    "            \"id\",\n",
    "            \"path\",\n",
    "            \"text_normalized\",\n",
    "        ],\n",
    "    )\n",
    "    .filter(remove_too_long)\n",
    "    .map(pad)\n",
    ")\n",
    "\n",
    "dataloader = dataset[\"train.clean.360\"].batch(batch_size=2)"
   ]
  },
  {
   "cell_type": "code",
   "execution_count": 14,
   "metadata": {},
   "outputs": [
    {
     "name": "stdout",
     "output_type": "stream",
     "text": [
      "🦀🦀🦀 Training\n",
      "[[ 4342   339  1043  1310  5876   287  4917  1724   284  3272   262 11287\n",
      "   5866    13 50256]]\n",
      "107\n",
      "(1, 78)\n",
      "(1, 185)\n",
      "[[    1   464   483    75   862   290 46988  2474   339 33552    26   366\n",
      "   4919   314   815   588   284   651   379   606     0   887   511   640\n",
      "    481  1282    13 50256]]\n",
      "54\n",
      "(1, 118)\n",
      "(1, 172)\n",
      "[[ 4342   339  1043  1310  5876   287  4917  1724   284  3272   262 11287\n",
      "   5866    13 50256]]\n",
      "[[ 707  757  667   11  299  189  619   11   11   83  567  266  158   62\n",
      "   619  417   66   66  266  266  210  287  334   62  725   37  318  254\n",
      "    10  467  126  278  697   62  230  165  165   65  210  475   66  416\n",
      "    65  210  126  324  235  464  447  543   62  389  318  803  745  935\n",
      "   938  757  397   10   48  210  209  235  886  310  126  243  262   37\n",
      "    29  626  274  602  134  413  724 1024 1024 1024 1024 1024 1024 1024\n",
      "  1024 1024 1024 1024 1024 1024 1024 1024 1024 1024 1024 1024 1024 1024\n",
      "  1024 1024 1024 1024 1024 1024 1024 1024 1024 1024 1024 1024 1024 1024\n",
      "  1024 1024 1024 1024 1024 1024 1024 1024 1024 1024 1024 1024 1024 1024\n",
      "  1024 1024 1024 1024 1024 1024 1024 1024 1024 1024 1024 1024 1024 1024\n",
      "  1024 1024 1024 1024 1024 1024 1024 1024 1024 1024 1024 1024 1024 1024\n",
      "  1024 1024 1024 1024 1024 1024 1024 1024 1024 1024 1024 1024 1024 1024\n",
      "  1024 1024 1024 1024 1024 1024 1024 1024 1024 1024 1024 1024 1024 1024\n",
      "  1024 1024 1024]]\n",
      "200\n"
     ]
    },
    {
     "ename": "NameError",
     "evalue": "name 'make_step' is not defined",
     "output_type": "error",
     "traceback": [
      "\u001b[0;31m---------------------------------------------------------------------------\u001b[0m",
      "\u001b[0;31mNameError\u001b[0m                                 Traceback (most recent call last)",
      "Cell \u001b[0;32mIn[14], line 8\u001b[0m\n\u001b[1;32m      6\u001b[0m \u001b[38;5;28mprint\u001b[39m(y)\n\u001b[1;32m      7\u001b[0m \u001b[38;5;28mprint\u001b[39m(\u001b[38;5;28mlen\u001b[39m(x[\u001b[38;5;241m0\u001b[39m]) \u001b[38;5;241m+\u001b[39m \u001b[38;5;28mlen\u001b[39m(y[\u001b[38;5;241m0\u001b[39m]))\n\u001b[0;32m----> 8\u001b[0m \u001b[38;5;28mself\u001b[39m\u001b[38;5;241m.\u001b[39mfixtts\u001b[38;5;241m.\u001b[39mgpt, optimizer_state, losses \u001b[38;5;241m=\u001b[39m \u001b[43mmake_step\u001b[49m(\n\u001b[1;32m      9\u001b[0m     \u001b[38;5;28mself\u001b[39m\u001b[38;5;241m.\u001b[39mfixtts\u001b[38;5;241m.\u001b[39mgpt, optimizer_state, x, y\n\u001b[1;32m     10\u001b[0m )\n\u001b[1;32m     11\u001b[0m \u001b[38;5;28mprint\u001b[39m(\u001b[38;5;124mf\u001b[39m\u001b[38;5;124m\"\u001b[39m\u001b[38;5;124mLoss: \u001b[39m\u001b[38;5;132;01m{\u001b[39;00mlosses\u001b[38;5;132;01m}\u001b[39;00m\u001b[38;5;124m\"\u001b[39m)\n",
      "\u001b[0;31mNameError\u001b[0m: name 'make_step' is not defined"
     ]
    }
   ],
   "source": [
    "print(\"🦀🦀🦀 Training\")\n",
    "for batch in dataloader:\n",
    "    for i in range(len(batch)):\n",
    "        x, y = batch[\"text\"][i], batch[\"audio\"][i]\n",
    "        print(x)\n",
    "        print(y)\n",
    "        print(len(x[0]) + len(y[0]))\n",
    "        self.fixtts.gpt, optimizer_state, losses = make_step(\n",
    "            self.fixtts.gpt, optimizer_state, x, y\n",
    "        )\n",
    "        print(f\"Loss: {losses}\")"
   ]
  },
  {
   "cell_type": "code",
   "execution_count": null,
   "metadata": {},
   "outputs": [],
   "source": []
  }
 ],
 "metadata": {
  "kernelspec": {
   "display_name": "xtts",
   "language": "python",
   "name": "python3"
  },
  "language_info": {
   "codemirror_mode": {
    "name": "ipython",
    "version": 3
   },
   "file_extension": ".py",
   "mimetype": "text/x-python",
   "name": "python",
   "nbconvert_exporter": "python",
   "pygments_lexer": "ipython3",
   "version": "3.10.15"
  }
 },
 "nbformat": 4,
 "nbformat_minor": 2
}
