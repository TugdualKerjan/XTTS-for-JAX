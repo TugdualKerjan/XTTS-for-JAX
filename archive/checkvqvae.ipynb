{
 "cells": [
  {
   "cell_type": "code",
   "execution_count": 1,
   "metadata": {},
   "outputs": [],
   "source": [
    "%load_ext autoreload\n",
    "%autoreload 2"
   ]
  },
  {
   "cell_type": "code",
   "execution_count": null,
   "metadata": {},
   "outputs": [
    {
     "name": "stdout",
     "output_type": "stream",
     "text": [
      "[[0.65751994 0.70697993 0.7114024  0.44222426]\n",
      " [0.73608494 0.76183087 0.7667745  0.4881196 ]\n",
      " [0.95654345 0.9757084  0.9700024  0.55742633]\n",
      " [1.3812428  1.4314709  1.4064077  0.73166764]\n",
      " [1.9839426  2.0474987  1.9697965  0.95297056]\n",
      " [2.4994745  2.62317    2.5206642  1.1871212 ]\n",
      " [3.1645105  3.3424819  3.1636393  1.3667222 ]\n",
      " [2.8477025  3.018959   2.8003316  1.1848493 ]\n",
      " [2.3993754  2.513414   2.2998543  0.96640813]\n",
      " [2.4834154  2.59261    2.3415592  0.93840736]\n",
      " [2.356126   2.4379032  2.169697   0.8609618 ]\n",
      " [2.3539047  2.4059591  2.118901   0.8687748 ]\n",
      " [2.3068979  2.3552036  2.067455   0.8615322 ]\n",
      " [2.1944537  2.2292907  1.9479003  0.84921217]\n",
      " [2.0550427  2.0754156  1.8083568  0.77973986]\n",
      " [2.0208757  2.0081434  1.7488062  0.75591403]\n",
      " [1.8440012  1.8416494  1.6083957  0.7254593 ]\n",
      " [1.7231171  1.7255569  1.5186278  0.689501  ]\n",
      " [1.5578169  1.5628048  1.3733047  0.6316358 ]\n",
      " [1.4327775  1.4368986  1.282575   0.6273489 ]\n",
      " [1.3631334  1.3651037  1.22791    0.655042  ]\n",
      " [1.3322792  1.3360206  1.198826   0.6306343 ]\n",
      " [1.2640266  1.2751012  1.1475346  0.5928451 ]\n",
      " [1.2384714  1.2394212  1.1111864  0.59010476]\n",
      " [1.2012031  1.2003615  1.0856744  0.5957378 ]\n",
      " [1.1484537  1.1483015  1.0492     0.5771854 ]\n",
      " [1.1604612  1.1429378  1.0481555  0.5862861 ]\n",
      " [1.1216567  1.1195803  1.021312   0.56120276]\n",
      " [1.1132278  1.1053195  1.0169548  0.5568099 ]\n",
      " [1.0785822  1.0874132  1.0075204  0.5617819 ]\n",
      " [1.0614864  1.067489   1.0031817  0.59140915]\n",
      " [1.0421684  1.0377908  0.96427596 0.54863524]\n",
      " [1.0150752  1.021575   0.9453061  0.5290964 ]\n",
      " [1.0039681  0.99605477 0.9195725  0.5350994 ]\n",
      " [0.99734324 0.9906443  0.90800434 0.51987404]\n",
      " [0.9829478  0.9886788  0.8965754  0.51063967]\n",
      " [0.97419274 0.9831757  0.90245897 0.5279937 ]\n",
      " [0.9675575  0.94958967 0.86635154 0.5177216 ]\n",
      " [0.9508481  0.93245906 0.8435291  0.48943233]\n",
      " [0.9132442  0.8949201  0.81404895 0.4756414 ]\n",
      " [0.9010074  0.8805761  0.7997123  0.46884373]\n",
      " [0.8899953  0.8918433  0.8044486  0.48403317]\n",
      " [0.86771977 0.8648997  0.79266614 0.45714143]\n",
      " [0.8577359  0.86221534 0.7838389  0.4639399 ]\n",
      " [0.8739005  0.8880113  0.8135561  0.51867944]\n",
      " [0.8699644  0.86316013 0.80168325 0.52605826]\n",
      " [0.86448765 0.86159587 0.7932086  0.48295844]\n",
      " [0.8790481  0.87302005 0.80871105 0.5160904 ]\n",
      " [0.875828   0.86142224 0.7958869  0.5085224 ]\n",
      " [0.8540998  0.8562624  0.7960961  0.5254409 ]\n",
      " [0.8395009  0.83609915 0.77078277 0.48489833]\n",
      " [0.81238633 0.81455564 0.74136096 0.4664479 ]\n",
      " [0.80479574 0.79936075 0.7427199  0.48270825]\n",
      " [0.79550695 0.79766536 0.7369735  0.4685833 ]\n",
      " [0.7605069  0.778263   0.7238702  0.44454688]\n",
      " [0.75279635 0.7569354  0.7037299  0.45864698]\n",
      " [0.7498753  0.755506   0.7048301  0.47410053]\n",
      " [0.75563794 0.7602538  0.701075   0.44855192]\n",
      " [0.7209518  0.74077165 0.6857886  0.43844563]\n",
      " [0.7065506  0.71161926 0.6751433  0.44972336]\n",
      " [0.6946792  0.7037894  0.6543387  0.43186727]\n",
      " [0.655182   0.653166   0.6249498  0.40057662]\n",
      " [0.6367523  0.6581363  0.6117443  0.4083353 ]\n",
      " [0.61787736 0.6099867  0.58327746 0.37306908]\n",
      " [0.603035   0.5989199  0.57410717 0.38991034]\n",
      " [0.58924884 0.59668326 0.5709019  0.3928496 ]\n",
      " [0.5706672  0.5672104  0.54067713 0.35325876]\n",
      " [0.55132043 0.5467161  0.5320461  0.38870654]\n",
      " [0.54302037 0.53937674 0.5282445  0.36111978]\n",
      " [0.5438748  0.53735703 0.5105834  0.357679  ]\n",
      " [0.5337946  0.5241128  0.5017944  0.35481066]\n",
      " [0.51111025 0.51038086 0.50061774 0.34741944]\n",
      " [0.4737553  0.47961342 0.4720716  0.30136758]\n",
      " [0.50631857 0.4964202  0.49250087 0.34608856]\n",
      " [0.48071316 0.48169625 0.4777298  0.3123736 ]\n",
      " [0.50206137 0.49197522 0.48287508 0.33622518]\n",
      " [0.4794112  0.47785437 0.47655395 0.3265805 ]\n",
      " [0.48834285 0.47830158 0.48679113 0.3445082 ]\n",
      " [0.47791377 0.46535632 0.46872315 0.32442778]\n",
      " [0.46675393 0.4740275  0.48387417 0.32968777]]\n"
     ]
    }
   ],
   "source": [
    "from mytokenizer import Tokenizer\n",
    "import jax\n",
    "\n",
    "tokenizer = Tokenizer(\"./checkpoints\")\n",
    "\n",
    "audio = jax.numpy.array(\n",
    "    [\n",
    "        1,\n",
    "        6090,\n",
    "        470,\n",
    "        307,\n",
    "        4193,\n",
    "        783,\n",
    "        553,\n",
    "        5894,\n",
    "        306,\n",
    "        24998,\n",
    "        26541,\n",
    "        406,\n",
    "        37520,\n",
    "        13,\n",
    "        50256,\n",
    "    ]\n",
    ")\n",
    "\n",
    "z_q = tokenizer.vqvae.quantizer.codebook.T[audio]\n",
    "\n",
    "# Straight-through estimator\n",
    "z_q = jax.numpy.permute_dims(z_q, (1, 0))\n",
    "\n",
    "output = tokenizer.vqvae.decoder(z_q)\n",
    "print(output)"
   ]
  },
  {
   "cell_type": "code",
   "execution_count": null,
   "metadata": {},
   "outputs": [
    {
     "name": "stdout",
     "output_type": "stream",
     "text": [
      "(80, 4)\n"
     ]
    },
    {
     "ename": "RuntimeError",
     "evalue": "Expected size for first two dimensions of batch2 tensor to be: [1, 513] but got: [1, 80].",
     "output_type": "error",
     "traceback": [
      "\u001b[0;31m---------------------------------------------------------------------------\u001b[0m",
      "\u001b[0;31mRuntimeError\u001b[0m                              Traceback (most recent call last)",
      "Cell \u001b[0;32mIn[13], line 5\u001b[0m\n\u001b[1;32m      1\u001b[0m \u001b[38;5;28;01mimport\u001b[39;00m \u001b[38;5;21;01mtorch\u001b[39;00m\u001b[38;5;241m,\u001b[39m \u001b[38;5;21;01mnumpy\u001b[39;00m\n\u001b[1;32m      3\u001b[0m \u001b[38;5;28mprint\u001b[39m(output\u001b[38;5;241m.\u001b[39mshape)\n\u001b[0;32m----> 5\u001b[0m \u001b[43mtokenizer\u001b[49m\u001b[38;5;241;43m.\u001b[39;49m\u001b[43mmel_to_dvae_wav\u001b[49m\u001b[43m(\u001b[49m\u001b[43mtorch\u001b[49m\u001b[38;5;241;43m.\u001b[39;49m\u001b[43mfrom_numpy\u001b[49m\u001b[43m(\u001b[49m\u001b[43mnumpy\u001b[49m\u001b[38;5;241;43m.\u001b[39;49m\u001b[43marray\u001b[49m\u001b[43m(\u001b[49m\u001b[43moutput\u001b[49m\u001b[43m)\u001b[49m\u001b[43m)\u001b[49m\u001b[43m)\u001b[49m\n",
      "File \u001b[0;32m~/Documents/Projects/JAXTTS/FINALXTTS/mytokenizer.py:104\u001b[0m, in \u001b[0;36mTokenizer.mel_to_dvae_wav\u001b[0;34m(self, mel, mel_norms_file, mel_norms, device)\u001b[0m\n\u001b[1;32m    101\u001b[0m inv_mel_basis \u001b[38;5;241m=\u001b[39m torch\u001b[38;5;241m.\u001b[39mpinverse(mel_stft\u001b[38;5;241m.\u001b[39mmel_scale\u001b[38;5;241m.\u001b[39mfb)\u001b[38;5;241m.\u001b[39mto(device)\n\u001b[1;32m    103\u001b[0m \u001b[38;5;66;03m# Convert mel spectrogram to linear spectrogram\u001b[39;00m\n\u001b[0;32m--> 104\u001b[0m spec \u001b[38;5;241m=\u001b[39m \u001b[43mtorch\u001b[49m\u001b[38;5;241;43m.\u001b[39;49m\u001b[43mmatmul\u001b[49m\u001b[43m(\u001b[49m\u001b[43minv_mel_basis\u001b[49m\u001b[43m,\u001b[49m\u001b[43m \u001b[49m\u001b[43mmel\u001b[49m\u001b[43m)\u001b[49m\n\u001b[1;32m    106\u001b[0m \u001b[38;5;66;03m# Use Griffin-Lim algorithm to convert spectrogram to waveform\u001b[39;00m\n\u001b[1;32m    107\u001b[0m griffin_lim \u001b[38;5;241m=\u001b[39m torchaudio\u001b[38;5;241m.\u001b[39mtransforms\u001b[38;5;241m.\u001b[39mGriffinLim(\n\u001b[1;32m    108\u001b[0m     n_fft\u001b[38;5;241m=\u001b[39m\u001b[38;5;241m1024\u001b[39m,\n\u001b[1;32m    109\u001b[0m     hop_length\u001b[38;5;241m=\u001b[39m\u001b[38;5;241m256\u001b[39m,\n\u001b[0;32m   (...)\u001b[0m\n\u001b[1;32m    112\u001b[0m     n_iter\u001b[38;5;241m=\u001b[39m\u001b[38;5;241m32\u001b[39m,\n\u001b[1;32m    113\u001b[0m )\u001b[38;5;241m.\u001b[39mto(device)\n",
      "\u001b[0;31mRuntimeError\u001b[0m: Expected size for first two dimensions of batch2 tensor to be: [1, 513] but got: [1, 80]."
     ]
    }
   ],
   "source": [
    "import torch, numpy\n",
    "\n",
    "print(output.shape)\n",
    "\n",
    "\n",
    "tokenizer.mel_to_dvae_wav(torch.from_numpy(numpy.array(output)))"
   ]
  },
  {
   "cell_type": "code",
   "execution_count": null,
   "metadata": {},
   "outputs": [
    {
     "data": {
      "text/plain": [
       "torch.Size([1, 80, 87])"
      ]
     },
     "execution_count": 15,
     "metadata": {},
     "output_type": "execute_result"
    }
   ],
   "source": [
    "tokenizer.dvae_wav_to_mel(test).shape"
   ]
  },
  {
   "cell_type": "code",
   "execution_count": null,
   "metadata": {},
   "outputs": [
    {
     "name": "stdout",
     "output_type": "stream",
     "text": [
      "44100\n"
     ]
    },
    {
     "name": "stderr",
     "output_type": "stream",
     "text": [
      "/Users/tugdual/miniconda3/envs/xtts/lib/python3.10/site-packages/torchaudio/functional/functional.py:584: UserWarning: At least one mel filterbank has all zero values. The value for `n_mels` (128) may be set too high. Or, the value for `n_freqs` (513) may be set too low.\n",
      "  warnings.warn(\n"
     ]
    },
    {
     "ename": "_LinAlgError",
     "evalue": "torch.linalg.lstsq: The least squares solution could not be computed because the input matrix does not have full rank (error code: 1).",
     "output_type": "error",
     "traceback": [
      "\u001b[0;31m---------------------------------------------------------------------------\u001b[0m",
      "\u001b[0;31m_LinAlgError\u001b[0m                              Traceback (most recent call last)",
      "Cell \u001b[0;32mIn[64], line 19\u001b[0m\n\u001b[1;32m     14\u001b[0m \u001b[38;5;66;03m# torchaudio.transforms.GriffinLim(n_fft=n_fft, hop_length=hop_length),\u001b[39;00m\n\u001b[1;32m     15\u001b[0m \u001b[38;5;66;03m# waveform = inverse_transform(torch.squeeze(features))\u001b[39;00m\n\u001b[1;32m     16\u001b[0m \u001b[38;5;66;03m# return torch.unsqueeze(waveform, 0)\u001b[39;00m\n\u001b[1;32m     18\u001b[0m mel \u001b[38;5;241m=\u001b[39m transofrm(waveform)\n\u001b[0;32m---> 19\u001b[0m unmel \u001b[38;5;241m=\u001b[39m \u001b[43minvers\u001b[49m\u001b[43m(\u001b[49m\u001b[43mmel\u001b[49m\u001b[43m)\u001b[49m\n",
      "File \u001b[0;32m~/miniconda3/envs/xtts/lib/python3.10/site-packages/torch/nn/modules/module.py:1736\u001b[0m, in \u001b[0;36mModule._wrapped_call_impl\u001b[0;34m(self, *args, **kwargs)\u001b[0m\n\u001b[1;32m   1734\u001b[0m     \u001b[38;5;28;01mreturn\u001b[39;00m \u001b[38;5;28mself\u001b[39m\u001b[38;5;241m.\u001b[39m_compiled_call_impl(\u001b[38;5;241m*\u001b[39margs, \u001b[38;5;241m*\u001b[39m\u001b[38;5;241m*\u001b[39mkwargs)  \u001b[38;5;66;03m# type: ignore[misc]\u001b[39;00m\n\u001b[1;32m   1735\u001b[0m \u001b[38;5;28;01melse\u001b[39;00m:\n\u001b[0;32m-> 1736\u001b[0m     \u001b[38;5;28;01mreturn\u001b[39;00m \u001b[38;5;28;43mself\u001b[39;49m\u001b[38;5;241;43m.\u001b[39;49m\u001b[43m_call_impl\u001b[49m\u001b[43m(\u001b[49m\u001b[38;5;241;43m*\u001b[39;49m\u001b[43margs\u001b[49m\u001b[43m,\u001b[49m\u001b[43m \u001b[49m\u001b[38;5;241;43m*\u001b[39;49m\u001b[38;5;241;43m*\u001b[39;49m\u001b[43mkwargs\u001b[49m\u001b[43m)\u001b[49m\n",
      "File \u001b[0;32m~/miniconda3/envs/xtts/lib/python3.10/site-packages/torch/nn/modules/module.py:1747\u001b[0m, in \u001b[0;36mModule._call_impl\u001b[0;34m(self, *args, **kwargs)\u001b[0m\n\u001b[1;32m   1742\u001b[0m \u001b[38;5;66;03m# If we don't have any hooks, we want to skip the rest of the logic in\u001b[39;00m\n\u001b[1;32m   1743\u001b[0m \u001b[38;5;66;03m# this function, and just call forward.\u001b[39;00m\n\u001b[1;32m   1744\u001b[0m \u001b[38;5;28;01mif\u001b[39;00m \u001b[38;5;129;01mnot\u001b[39;00m (\u001b[38;5;28mself\u001b[39m\u001b[38;5;241m.\u001b[39m_backward_hooks \u001b[38;5;129;01mor\u001b[39;00m \u001b[38;5;28mself\u001b[39m\u001b[38;5;241m.\u001b[39m_backward_pre_hooks \u001b[38;5;129;01mor\u001b[39;00m \u001b[38;5;28mself\u001b[39m\u001b[38;5;241m.\u001b[39m_forward_hooks \u001b[38;5;129;01mor\u001b[39;00m \u001b[38;5;28mself\u001b[39m\u001b[38;5;241m.\u001b[39m_forward_pre_hooks\n\u001b[1;32m   1745\u001b[0m         \u001b[38;5;129;01mor\u001b[39;00m _global_backward_pre_hooks \u001b[38;5;129;01mor\u001b[39;00m _global_backward_hooks\n\u001b[1;32m   1746\u001b[0m         \u001b[38;5;129;01mor\u001b[39;00m _global_forward_hooks \u001b[38;5;129;01mor\u001b[39;00m _global_forward_pre_hooks):\n\u001b[0;32m-> 1747\u001b[0m     \u001b[38;5;28;01mreturn\u001b[39;00m \u001b[43mforward_call\u001b[49m\u001b[43m(\u001b[49m\u001b[38;5;241;43m*\u001b[39;49m\u001b[43margs\u001b[49m\u001b[43m,\u001b[49m\u001b[43m \u001b[49m\u001b[38;5;241;43m*\u001b[39;49m\u001b[38;5;241;43m*\u001b[39;49m\u001b[43mkwargs\u001b[49m\u001b[43m)\u001b[49m\n\u001b[1;32m   1749\u001b[0m result \u001b[38;5;241m=\u001b[39m \u001b[38;5;28;01mNone\u001b[39;00m\n\u001b[1;32m   1750\u001b[0m called_always_called_hooks \u001b[38;5;241m=\u001b[39m \u001b[38;5;28mset\u001b[39m()\n",
      "File \u001b[0;32m~/miniconda3/envs/xtts/lib/python3.10/site-packages/torchaudio/transforms/_transforms.py:498\u001b[0m, in \u001b[0;36mInverseMelScale.forward\u001b[0;34m(self, melspec)\u001b[0m\n\u001b[1;32m    495\u001b[0m \u001b[38;5;28;01mif\u001b[39;00m \u001b[38;5;28mself\u001b[39m\u001b[38;5;241m.\u001b[39mn_mels \u001b[38;5;241m!=\u001b[39m n_mels:\n\u001b[1;32m    496\u001b[0m     \u001b[38;5;28;01mraise\u001b[39;00m \u001b[38;5;167;01mValueError\u001b[39;00m(\u001b[38;5;124m\"\u001b[39m\u001b[38;5;124mExpected an input with \u001b[39m\u001b[38;5;132;01m{}\u001b[39;00m\u001b[38;5;124m mel bins. Found: \u001b[39m\u001b[38;5;132;01m{}\u001b[39;00m\u001b[38;5;124m\"\u001b[39m\u001b[38;5;241m.\u001b[39mformat(\u001b[38;5;28mself\u001b[39m\u001b[38;5;241m.\u001b[39mn_mels, n_mels))\n\u001b[0;32m--> 498\u001b[0m specgram \u001b[38;5;241m=\u001b[39m torch\u001b[38;5;241m.\u001b[39mrelu(\u001b[43mtorch\u001b[49m\u001b[38;5;241;43m.\u001b[39;49m\u001b[43mlinalg\u001b[49m\u001b[38;5;241;43m.\u001b[39;49m\u001b[43mlstsq\u001b[49m\u001b[43m(\u001b[49m\u001b[38;5;28;43mself\u001b[39;49m\u001b[38;5;241;43m.\u001b[39;49m\u001b[43mfb\u001b[49m\u001b[38;5;241;43m.\u001b[39;49m\u001b[43mtranspose\u001b[49m\u001b[43m(\u001b[49m\u001b[38;5;241;43m-\u001b[39;49m\u001b[38;5;241;43m1\u001b[39;49m\u001b[43m,\u001b[49m\u001b[43m \u001b[49m\u001b[38;5;241;43m-\u001b[39;49m\u001b[38;5;241;43m2\u001b[39;49m\u001b[43m)\u001b[49m\u001b[43m[\u001b[49m\u001b[38;5;28;43;01mNone\u001b[39;49;00m\u001b[43m]\u001b[49m\u001b[43m,\u001b[49m\u001b[43m \u001b[49m\u001b[43mmelspec\u001b[49m\u001b[43m,\u001b[49m\u001b[43m \u001b[49m\u001b[43mdriver\u001b[49m\u001b[38;5;241;43m=\u001b[39;49m\u001b[38;5;28;43mself\u001b[39;49m\u001b[38;5;241;43m.\u001b[39;49m\u001b[43mdriver\u001b[49m\u001b[43m)\u001b[49m\u001b[38;5;241m.\u001b[39msolution)\n\u001b[1;32m    500\u001b[0m \u001b[38;5;66;03m# unpack batch\u001b[39;00m\n\u001b[1;32m    501\u001b[0m specgram \u001b[38;5;241m=\u001b[39m specgram\u001b[38;5;241m.\u001b[39mview(shape[:\u001b[38;5;241m-\u001b[39m\u001b[38;5;241m2\u001b[39m] \u001b[38;5;241m+\u001b[39m (freq, time))\n",
      "\u001b[0;31m_LinAlgError\u001b[0m: torch.linalg.lstsq: The least squares solution could not be computed because the input matrix does not have full rank (error code: 1)."
     ]
    }
   ],
   "source": [
    "import torch\n",
    "import torchaudio\n",
    "import IPython\n",
    "import torch.nn as nn\n",
    "import numpy as np\n",
    "\n",
    "waveform, sample_rate = torchaudio.load(\"record.wav\", normalize=True)\n",
    "\n",
    "print(sample_rate)\n",
    "transofrm = torchaudio.transforms.MelSpectrogram(n_fft=1024)\n",
    "\n",
    "\n",
    "invers = torchaudio.transforms.InverseMelScale(n_stft=1024 // 2 + 1)\n",
    "# torchaudio.transforms.GriffinLim(n_fft=n_fft, hop_length=hop_length),\n",
    "# waveform = inverse_transform(torch.squeeze(features))\n",
    "# return torch.unsqueeze(waveform, 0)\n",
    "\n",
    "mel = transofrm(waveform)\n",
    "unmel = invers(mel)"
   ]
  },
  {
   "cell_type": "code",
   "execution_count": null,
   "metadata": {},
   "outputs": [],
   "source": []
  },
  {
   "cell_type": "code",
   "execution_count": null,
   "metadata": {},
   "outputs": [],
   "source": []
  }
 ],
 "metadata": {
  "kernelspec": {
   "display_name": "xtts",
   "language": "python",
   "name": "python3"
  },
  "language_info": {
   "codemirror_mode": {
    "name": "ipython",
    "version": 3
   },
   "file_extension": ".py",
   "mimetype": "text/x-python",
   "name": "python",
   "nbconvert_exporter": "python",
   "pygments_lexer": "ipython3",
   "version": "3.10.15"
  }
 },
 "nbformat": 4,
 "nbformat_minor": 2
}
